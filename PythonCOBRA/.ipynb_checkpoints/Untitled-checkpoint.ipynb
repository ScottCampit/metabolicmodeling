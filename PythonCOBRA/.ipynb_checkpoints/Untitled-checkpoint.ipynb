{
 "cells": [
  {
   "cell_type": "markdown",
   "metadata": {},
   "source": [
    "# Quadratic programming example\n",
    "**Author:** Scott Campit\n",
    "\n",
    "This tutorial solvers an arbitrary quadratic programming (QP) problem."
   ]
  },
  {
   "cell_type": "code",
   "execution_count": 5,
   "metadata": {},
   "outputs": [],
   "source": [
    "# Import Gurobi Solver\n",
    "import gurobipy as gp\n",
    "from gurobipy import GRB"
   ]
  },
  {
   "cell_type": "code",
   "execution_count": 6,
   "metadata": {},
   "outputs": [],
   "source": [
    "# Example taken from https://www.gurobi.com/documentation/9.0/examples/qp_py.html \n",
    "# Copyright 2020, Gurobi Optimization, LLC\n",
    "\n",
    "# This example formulates and solves the following simple QP model:\n",
    "#  minimize\n",
    "#      x^2 + x*y + y^2 + y*z + z^2 + 2 x\n",
    "#  subject to\n",
    "#      x + 2 y + 3 z >= 4\n",
    "#      x +   y       >= 1\n",
    "#      x, y, z non-negative\n",
    "#\n",
    "# It solves it once as a continuous model, and once as an integer model."
   ]
  },
  {
   "cell_type": "markdown",
   "metadata": {},
   "source": [
    "## Solving a QP Problem\n",
    "First, we need to create an object that will hold the variables and constraints. This is equivalent to a structure in MATLAB."
   ]
  },
  {
   "cell_type": "code",
   "execution_count": 9,
   "metadata": {},
   "outputs": [
    {
     "name": "stdout",
     "output_type": "stream",
     "text": [
      "Using license file /home/scampit/software/gurobi901/linux64/gurobi.lic\n",
      "Academic license - for non-commercial use only\n"
     ]
    }
   ],
   "source": [
    "# Create model object\n",
    "mdl = gp.Model(\"qp_example\")"
   ]
  },
  {
   "cell_type": "markdown",
   "metadata": {},
   "source": [
    "Next we need to create variables, which we can do using the `addVar()` method, and we can assign the upper and lower bounds as well. \n",
    "\n",
    "In a large (ie genome-scale) problem, we would of course have a more elegant solution to assigning individual variables. However, because there are only 3 variables in this example, we'll assign them individually."
   ]
  },
  {
   "cell_type": "code",
   "execution_count": 10,
   "metadata": {},
   "outputs": [],
   "source": [
    "# Create variables\n",
    "x = mdl.addVar(ub=1.0, lb=0.0, name='x')\n",
    "y = mdl.addVar(ub=1.0, lb=0.0, name='y')\n",
    "z = mdl.addVar(ub=1.0, lb=0.0, name='z')"
   ]
  },
  {
   "cell_type": "raw",
   "metadata": {},
   "source": [
    "Next, let's set the objective function, which happens to be quadratic this example. We can write out the expression into a variable `obj` and use the `setObjective` function to set the objective function."
   ]
  },
  {
   "cell_type": "code",
   "execution_count": 11,
   "metadata": {},
   "outputs": [],
   "source": [
    "# Set objective: x^2 + x*y + y^2 + y*z + z^2 + 2 x\n",
    "obj = x*x + x*y + y*y + y*z + z*z + 2*x\n",
    "mdl.setObjective(obj)"
   ]
  },
  {
   "cell_type": "markdown",
   "metadata": {},
   "source": [
    "Let's now add our linear equations that we are using to constrain the model"
   ]
  },
  {
   "cell_type": "code",
   "execution_count": 22,
   "metadata": {},
   "outputs": [],
   "source": [
    "# Add constraint: x + 2 y + 3 z <= 4\n",
    "c0 = mdl.addConstr(x + 2 * y + 3 * z >= 4, \"c0\")\n",
    "\n",
    "# Add constraint: x + y >= 1\n",
    "c1 = mdl.addConstr(x + y >= 1, \"c1\")\n",
    "\n",
    "# Add non-negativity constraints\n",
    "c2 = mdl.addConstr(x >= 0, \"c2\")\n",
    "c3 = mdl.addConstr(y >= 0, \"c3\")\n",
    "c4 = mdl.addConstr(z >= 0, \"c4\")"
   ]
  },
  {
   "cell_type": "markdown",
   "metadata": {},
   "source": [
    "Finally, let's solve"
   ]
  },
  {
   "cell_type": "code",
   "execution_count": 23,
   "metadata": {},
   "outputs": [
    {
     "name": "stdout",
     "output_type": "stream",
     "text": [
      "Gurobi Optimizer version 9.0.1 build v9.0.1rc0 (linux64)\n",
      "Optimize a model with 15 rows, 3 columns and 24 nonzeros\n",
      "Model fingerprint: 0xc6c7063d\n",
      "Model has 5 quadratic objective terms\n",
      "Coefficient statistics:\n",
      "  Matrix range     [1e+00, 3e+00]\n",
      "  Objective range  [2e+00, 2e+00]\n",
      "  QObjective range [2e+00, 2e+00]\n",
      "  Bounds range     [1e+00, 1e+00]\n",
      "  RHS range        [1e+00, 4e+00]\n",
      "Presolve removed 13 rows and 0 columns\n",
      "Presolve time: 0.02s\n",
      "Presolved: 2 rows, 3 columns, 5 nonzeros\n",
      "Presolved model has 5 quadratic objective terms\n",
      "Ordering time: 0.00s\n",
      "\n",
      "Barrier statistics:\n",
      " Free vars  : 2\n",
      " AA' NZ     : 6.000e+00\n",
      " Factor NZ  : 1.000e+01\n",
      " Factor Ops : 3.000e+01 (less than 1 second per iteration)\n",
      " Threads    : 1\n",
      "\n",
      "                  Objective                Residual\n",
      "Iter       Primal          Dual         Primal    Dual     Compl     Time\n",
      "   0   1.69015022e+05 -1.71012100e+05  1.50e+03 3.33e+02  1.00e+06     0s\n",
      "   1   3.60255402e+04 -3.91306233e+04  2.28e+02 3.82e+01  1.20e+05     0s\n",
      "   2   4.14685168e+00 -4.40925173e+03  1.80e+00 4.00e-01  1.83e+03     0s\n",
      "   3   2.81937163e+00 -1.92736174e+03  1.80e-06 4.00e-07  2.41e+02     0s\n",
      "   4   2.81628339e+00 -1.81287557e-01  8.60e-10 1.90e-10  3.75e-01     0s\n",
      "   5   2.26977145e+00  2.06670895e+00  6.89e-12 1.53e-12  2.54e-02     0s\n",
      "   6   2.11498124e+00  2.11029644e+00  2.22e-16 5.55e-16  5.86e-04     0s\n",
      "   7   2.11111498e+00  2.11111030e+00  2.22e-16 2.23e-16  5.85e-07     0s\n",
      "   8   2.11111111e+00  2.11111111e+00  2.22e-16 0.00e+00  5.86e-10     0s\n",
      "\n",
      "Barrier solved model in 8 iterations and 0.03 seconds\n",
      "Optimal objective 2.11111111e+00\n",
      "\n",
      "Objective value:  2.1111111149799298\n",
      "RHS [4.0, 1.0, 0.0, 0.0, 0.0, 4.0, 1.0, 0.0, 0.0, 0.0, 4.0, 1.0, 0.0, 0.0, 0.0]\n"
     ]
    }
   ],
   "source": [
    "# Optimize the model\n",
    "mdl.optimize()\n",
    "\n",
    "# Get the objective value\n",
    "print(\"Objective value: \", mdl.objVal)\n",
    "\n",
    "# Get the RHS\n",
    "print(\"RHS\", mdl.RHS)"
   ]
  },
  {
   "cell_type": "markdown",
   "metadata": {},
   "source": [
    "# Sensitivity Analysis\n",
    "First, let's get some metrics out of the model, like the reduced cost and shadow price."
   ]
  },
  {
   "cell_type": "code",
   "execution_count": 18,
   "metadata": {},
   "outputs": [
    {
     "name": "stdout",
     "output_type": "stream",
     "text": [
      "[0.7777777774265019, 1.9944607818577893, 0.0, 0.0, 0.0]\n",
      "[0.22776144408201618, -0.8833496720106538, 4.18484965407449e-11]\n"
     ]
    }
   ],
   "source": [
    "# Get the shadow price associated with each constraint\n",
    "print(mdl.Pi)\n",
    "\n",
    "# Get the reduced cost associated with each variable\n",
    "print(mdl.RC)"
   ]
  },
  {
   "cell_type": "markdown",
   "metadata": {},
   "source": [
    "Let's now modify a single variable. For instance, let's see the impact of the RHS for the first constraint on the objective coefficient if we gradually increase the value by 1."
   ]
  },
  {
   "cell_type": "code",
   "execution_count": 47,
   "metadata": {},
   "outputs": [
    {
     "name": "stdout",
     "output_type": "stream",
     "text": [
      "2.1111111149799298\n",
      "2.1111111149799298\n",
      "2.1111111149799298\n",
      "2.1111111149799298\n",
      "2.1111111149799298\n",
      "2.1111111149799298\n",
      "2.1111111149799298\n",
      "2.1111111149799298\n",
      "2.1111111149799298\n",
      "2.1111111149799298\n"
     ]
    }
   ],
   "source": [
    "# Create a new model and hide the output table\n",
    "mdl2 = mdl\n",
    "mdl2.setParam('OutputFlag', False)\n",
    "iterations = 10\n",
    "\n",
    "# Divide the RHS of c1 by 0.1 (relax the constraints) for 10 iterations\n",
    "for i in range(0, iterations):\n",
    "    c1.RHS = c1.RHS * 0.1\n",
    "    mdl2.update()\n",
    "    mdl2.optimize()\n",
    "    print(mdl2.objVal)"
   ]
  }
 ],
 "metadata": {
  "hide_input": false,
  "kernelspec": {
   "display_name": "Python 3",
   "language": "python",
   "name": "python3"
  },
  "latex_envs": {
   "LaTeX_envs_menu_present": true,
   "autoclose": false,
   "autocomplete": true,
   "bibliofile": "biblio.bib",
   "cite_by": "apalike",
   "current_citInitial": 1,
   "eqLabelWithNumbers": true,
   "eqNumInitial": 1,
   "hotkeys": {
    "equation": "Ctrl-E",
    "itemize": "Ctrl-I"
   },
   "labels_anchors": false,
   "latex_user_defs": false,
   "report_style_numbering": false,
   "user_envs_cfg": false
  }
 },
 "nbformat": 4,
 "nbformat_minor": 4
}
