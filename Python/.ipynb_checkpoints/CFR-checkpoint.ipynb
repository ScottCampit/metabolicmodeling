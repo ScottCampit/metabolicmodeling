{
 "cells": [
  {
   "cell_type": "markdown",
   "metadata": {},
   "source": [
    "# Constraining metabolic models using the iMAT algorithm\n",
    "**Author: Scott Campit**"
   ]
  },
  {
   "cell_type": "markdown",
   "metadata": {},
   "source": [
    "## Summary\n",
    "This notebook contains code for running the iMAT algorithm."
   ]
  },
  {
   "cell_type": "code",
   "execution_count": null,
   "metadata": {},
   "outputs": [],
   "source": [
    "import cobra\n",
    "import gurobipy as gp\n",
    "from gurobipy import GRB\n",
    "import numpy as np\n",
    "import scipy.sparse as sp"
   ]
  },
  {
   "cell_type": "markdown",
   "metadata": {},
   "source": [
    "First, we need to make a function that will transform a COBRA model to Gurobi format."
   ]
  },
  {
   "cell_type": "code",
   "execution_count": null,
   "metadata": {},
   "outputs": [],
   "source": [
    "def makeGurobiModel(modelFileName):\n",
    "    \"\"\"\n",
    "    makeGurobiModel creates a Gurobi object from a COBRA model.\n",
    "    \n",
    "    :param modelFileName:\n",
    "    :output :\n",
    "    \"\"\"\n",
    "    # Read in common file types for COBRA models\n",
    "    if modelFileName.split('.')[-1] == ('sbml' or 'xml'):\n",
    "        cobra_model = cobra.io.read_sbml_model(modelFileName)\n",
    "    elif modelFileName.split('.')[-1] == 'mat':\n",
    "        cobra_model = cobra.io.load_matlab_model(modelFileName)\n",
    "    print(cobra_model)\n",
    "    # Begin constructing Gurobi model\n",
    "    model = gp.Model(\"COBRA\")\n",
    "    #reactions = model.addVars(cobra_model.reactions, name='Reactions')\n",
    "    #objective_coefficients = model.addVars()\n",
    "    #model.setObjective(reactions['biomass_objective'], GRB.MAXMIMIZE)"
   ]
  }
 ],
 "metadata": {
  "kernelspec": {
   "display_name": "Python 3",
   "language": "python",
   "name": "python3"
  },
  "language_info": {
   "codemirror_mode": {
    "name": "ipython",
    "version": 3
   },
   "file_extension": ".py",
   "mimetype": "text/x-python",
   "name": "python",
   "nbconvert_exporter": "python",
   "pygments_lexer": "ipython3",
   "version": "3.7.3"
  }
 },
 "nbformat": 4,
 "nbformat_minor": 4
}
