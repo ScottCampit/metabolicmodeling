{
 "cells": [
  {
   "cell_type": "markdown",
   "metadata": {},
   "source": [
    "# Interactive Test Suite for the CFR module\n",
    "**Author:** Scott Campit"
   ]
  },
  {
   "cell_type": "markdown",
   "metadata": {},
   "source": [
    "# Summary\n",
    "This module creates tests for the CFR function. The iMAT algorithm can be broken down into 4 main components:\n",
    "  1. Creating a Gurobi model object\n",
    "  2. Modifying the constraints for reactions associated with upregulated genes\n",
    "  3. Modifying the constraints for reactions associated with downregulated genes\n",
    "  4. Solving a system of linear equations, given an optimization problem\n",
    "  \n",
    "Thus, I will write a set of tests for each major component in the CFR function."
   ]
  },
  {
   "cell_type": "code",
   "execution_count": null,
   "metadata": {},
   "outputs": [],
   "source": [
    "# Necessary function for tests\n",
    "import unittest\n",
    "import doctest\n",
    "doctest.testmod(verbose=True)\n",
    "\n",
    "# Necessary dependencies\n",
    "import cobra\n",
    "import gurobipy as gp\n",
    "from gurobipy import GRB\n",
    "import numpy as np\n",
    "import scipy.sparse as sp"
   ]
  },
  {
   "cell_type": "markdown",
   "metadata": {},
   "source": [
    "# Creating a Gurobi model object\n",
    "This suite of tests ensures that the Gurobi model is correct. "
   ]
  },
  {
   "cell_type": "code",
   "execution_count": null,
   "metadata": {},
   "outputs": [],
   "source": [
    "# Read in RECON1\n",
    "path = \"/home/scampit/Data/Reconstructions/RECON1/recon1.mat\"\n",
    "model = cobra.io.load_matlab_model(path, variable_name=\"RECON1\")\n",
    "print(model)"
   ]
  },
  {
   "cell_type": "code",
   "execution_count": null,
   "metadata": {},
   "outputs": [],
   "source": []
  }
 ],
 "metadata": {
  "kernelspec": {
   "display_name": "CFR",
   "language": "python",
   "name": "cfr"
  },
  "language_info": {
   "name": ""
  }
 },
 "nbformat": 4,
 "nbformat_minor": 4
}
